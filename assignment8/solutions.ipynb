{
 "cells": [
  {
   "cell_type": "markdown",
   "metadata": {},
   "source": [
    "# CME 241 (Winter 2021) -- Assignment 8\n",
    "\n",
    "## Question 3"
   ]
  },
  {
   "cell_type": "code",
   "execution_count": 1,
   "metadata": {},
   "outputs": [],
   "source": [
    "from dataclasses import dataclass\n",
    "from enum import Enum, auto\n",
    "import functools\n",
    "from typing import Callable, Iterable, Iterator, Optional, Tuple\n",
    "\n",
    "import matplotlib.pyplot as plt\n",
    "import numpy as np\n",
    "\n",
    "from rl.markov_decision_process import (\n",
    "    MarkovDecisionProcess as MDP,\n",
    "    Policy\n",
    ")\n",
    "from rl.distribution import (\n",
    "    Distribution,\n",
    "    SampledDistribution as Sampler,\n",
    "    Gaussian,\n",
    "    Choose\n",
    ")\n",
    "from rl.approximate_dynamic_programming import back_opt_vf_and_policy\n",
    "from rl.function_approx import (\n",
    "    FunctionApprox as FuncApprox, \n",
    "    LinearFunctionApprox\n",
    ")"
   ]
  },
  {
   "cell_type": "code",
   "execution_count": 2,
   "metadata": {},
   "outputs": [],
   "source": [
    "@dataclass(frozen=True)\n",
    "class S:\n",
    "    \"\"\"State is solely determined by the underlying price.\"\"\"\n",
    "    price: float\n",
    "\n",
    "\n",
    "class A(Enum):\n",
    "    \"\"\"Actions are either hold or exercise.\"\"\"\n",
    "    exr = auto()\n",
    "    hold = auto()\n",
    "\n",
    "\n",
    "@dataclass(frozen=True)\n",
    "class AmericanOptionSolver:\n",
    "    \"\"\"\n",
    "    The fundamental functionality of this class is to produce a sequence\n",
    "    of `MDP_FuncApprox_Distribution` (defined in \n",
    "    approcimate_dynamic_programming.py). After initializing a problem\n",
    "    instance, call AmericanOptionSolver.solve() to compute optimal\n",
    "    value function and policy.\n",
    "    \"\"\"\n",
    "    \n",
    "    strike: float\n",
    "    ir: float\n",
    "    call: bool\n",
    "    single_step_dist: Distribution[float]\n",
    "    initial_state_dist: Distribution[S]\n",
    "    approximator: FuncApprox[S]\n",
    "    time_to_expiry: float\n",
    "    num_steps: int = 50\n",
    "        \n",
    "    @property\n",
    "    def dt(self) -> float:\n",
    "        \"\"\"Size of one time step.\"\"\"\n",
    "        return self.time_to_expiry / self.num_steps\n",
    "    \n",
    "    @property\n",
    "    def gamma(self) -> float:\n",
    "        \"\"\"Compute the discount factor.\"\"\"\n",
    "        return np.exp(-self.ir * self.dt)\n",
    "    \n",
    "    def get_mdp(self, i: int) -> MDP[S, A]:\n",
    "        \"\"\"Construct an MDP for a given time slice.\"\"\"\n",
    "        \n",
    "        # extract attributes so we can access within inner class\n",
    "        call = self.call\n",
    "        strike = self.strike\n",
    "        steps = self.num_steps\n",
    "        distribution = self.single_step_dist\n",
    "        \n",
    "        class AmericanOption(MDP[S, A]):\n",
    "            \"\"\"\n",
    "            An MDP representation of the American Option problem at\n",
    "            a particular point in time.\n",
    "            \"\"\"\n",
    "            \n",
    "            def _payoff(self, val: float) -> float:\n",
    "                \"\"\"Compute the payoff given an underlying price x.\"\"\"\n",
    "                if call:\n",
    "                    return max(val - strike, 0.)\n",
    "                return max(strike - val, 0.)\n",
    "            \n",
    "            def step(self, state: S, action: A) -> Sampler[Tuple[S, float]]:\n",
    "                \"\"\"Step the MDP to the next state with reward.\"\"\"\n",
    "                \n",
    "                def _sample_func() -> Tuple[S, float]:\n",
    "                    \"\"\"Define a stochastic step to the next state.\"\"\"\n",
    "                    price = state.price + distribution.sample()\n",
    "                    if i == steps - 1:\n",
    "                        reward = self._payoff(state.price)\n",
    "                    else:\n",
    "                        reward = 0.0\n",
    "                    return S(price), reward\n",
    "                \n",
    "                # Only do 1000 samples for computational tractability\n",
    "                return Sampler(_sample_func, expectation_samples=1000)\n",
    "            \n",
    "            def actions(self, state: S) -> Iterable[A]:\n",
    "                \"\"\"Yield possible actions from a state.\"\"\"\n",
    "                yield from A\n",
    "            \n",
    "        return AmericanOption()\n",
    "    \n",
    "    def get_states_distribution(self, i: int) -> Sampler[S]:\n",
    "        \"\"\"Generate a distribution of states at a time slice.\"\"\"\n",
    "        \n",
    "        def _sample_func() -> S:\n",
    "            \"\"\"Generate a single price path.\"\"\"\n",
    "            price: float = self.initial_state_dist.sample().price\n",
    "            for _ in range(i):\n",
    "                price += self.single_step_dist.sample()\n",
    "            return S(price)\n",
    "        \n",
    "        return Sampler(_sample_func, expectation_samples=1000)\n",
    "\n",
    "    def solve(\n",
    "        self, *, num_samples: int = 500\n",
    "    ) -> Iterator[Tuple[FuncApprox[S], Policy[S, A]]]:\n",
    "        \"\"\"Solve for value function and policy for a chain of MDPs.\"\"\"\n",
    "        approximator = self.approximator\n",
    "        chain: List[Tuple[MDP[S, A], FuncApprox[S], Distribution[S]]] = [\n",
    "            (self.get_mdp(i), approximator, self.get_states_distribution(i)) \n",
    "            for i in range(self.num_steps)\n",
    "        ]\n",
    "        return back_opt_vf_and_policy(\n",
    "            mdp_f0_mu_triples=chain,\n",
    "            γ=self.gamma,\n",
    "            num_state_samples=num_samples,\n",
    "            error_tolerance=1e-4,\n",
    "        )"
   ]
  },
  {
   "cell_type": "code",
   "execution_count": 3,
   "metadata": {},
   "outputs": [],
   "source": [
    "@functools.lru_cache\n",
    "def laguerre(x: float, *, k: int) -> Callable[[float], float]:\n",
    "    \"\"\"Compute the kth laguerre polynomial value.\"\"\"\n",
    "    if k == 0:\n",
    "        return 1.\n",
    "    if k == 1:\n",
    "        return 1. - x\n",
    "    a = laguerre(x, k=k - 1) \n",
    "    b = laguerre(x, k=k - 2)\n",
    "    return (2 * k + 1 - x) * a - k * b / (k + 1)"
   ]
  },
  {
   "cell_type": "code",
   "execution_count": 4,
   "metadata": {},
   "outputs": [],
   "source": [
    "increments = Gaussian(0.5, 1)\n",
    "initializations = Choose({S(i) for i in range(80, 120)})\n",
    "\n",
    "\n",
    "f0 = lambda x: laguerre(x.price, k=0)\n",
    "f1 = lambda x: laguerre(x.price, k=1)\n",
    "f2 = lambda x: laguerre(x.price, k=2)\n",
    "f3 = lambda x: laguerre(x.price, k=3)\n",
    "\n",
    "funcs = [f0, f1, f2, f3]\n",
    "approx = LinearFunctionApprox[S].create(\n",
    "    feature_functions=funcs,\n",
    "    direct_solve=False\n",
    ")\n",
    "\n",
    "mdp = AmericanOptionSolver(\n",
    "    strike=100,\n",
    "    ir=0.02,\n",
    "    call=True,\n",
    "    single_step_dist=increments,\n",
    "    initial_state_dist=initializations,\n",
    "    approximator=approx,\n",
    "    time_to_expiry=1,\n",
    ")"
   ]
  },
  {
   "cell_type": "code",
   "execution_count": 5,
   "metadata": {},
   "outputs": [],
   "source": [
    "sols = list(mdp.solve())"
   ]
  },
  {
   "cell_type": "code",
   "execution_count": 6,
   "metadata": {},
   "outputs": [
    {
     "data": {
      "text/plain": [
       "[<matplotlib.lines.Line2D at 0x12a8778e0>]"
      ]
     },
     "execution_count": 6,
     "metadata": {},
     "output_type": "execute_result"
    },
    {
     "data": {
      "image/png": "[encoded data removed]",
      "text/plain": [
       "<Figure size 432x288 with 1 Axes>"
      ]
     },
     "metadata": {
      "needs_background": "light"
     },
     "output_type": "display_data"
    }
   ],
   "source": [
    "pricer, policy = sols[0]\n",
    "spots = [S(i) for i in range(80, 120)]\n",
    "plt.plot([s.price for s in spots], pricer.evaluate(spots))"
   ]
  },
  {
   "cell_type": "code",
   "execution_count": null,
   "metadata": {},
   "outputs": [],
   "source": []
  }
 ],
 "metadata": {
  "kernelspec": {
   "display_name": "Python 3",
   "language": "python",
   "name": "python3"
  },
  "language_info": {
   "codemirror_mode": {
    "name": "ipython",
    "version": 3
   },
   "file_extension": ".py",
   "mimetype": "text/x-python",
   "name": "python",
   "nbconvert_exporter": "python",
   "pygments_lexer": "ipython3",
   "version": "3.8.7"
  }
 },
 "nbformat": 4,
 "nbformat_minor": 4
}
