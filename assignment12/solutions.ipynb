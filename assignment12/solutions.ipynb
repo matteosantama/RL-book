{
 "cells": [
  {
   "cell_type": "markdown",
   "metadata": {},
   "source": [
    "# CME 241 (Winter 2021) -- Assignment 12"
   ]
  },
  {
   "cell_type": "code",
   "execution_count": 13,
   "metadata": {},
   "outputs": [],
   "source": [
    "from collections import defaultdict, deque\n",
    "from typing import Iterable, TypeVar, Mapping, Dict, List, Set\n",
    "import itertools as it\n",
    "\n",
    "import matplotlib.pyplot as plt\n",
    "\n",
    "from rl.chapter10.random_walk_mrp import RandomWalkMRP\n",
    "from rl.distribution import Choose\n",
    "from rl.markov_process import TransitionStep"
   ]
  },
  {
   "cell_type": "markdown",
   "metadata": {},
   "source": [
    "## Question 1"
   ]
  },
  {
   "cell_type": "code",
   "execution_count": 2,
   "metadata": {},
   "outputs": [],
   "source": [
    "S = TypeVar(\"S\")\n",
    "\n",
    "def n_step_bootstrapping(\n",
    "    *,\n",
    "    traces: Iterable[Iterable[TransitionStep[S]]],\n",
    "    n: int,\n",
    "    alpha: float,\n",
    "    gamma: float,\n",
    "    num_simulations: int = 500,\n",
    ") -> Mapping[S, float]:\n",
    "    \"\"\"Implement the n-step bootsrapping prediction algorithm.\"\"\"\n",
    "    v: Dict[S, float] = defaultdict(float)\n",
    "        \n",
    "    def bootstrapped_return(_seq: deque) -> float:\n",
    "        \"\"\"Compute the bootstrapped return of a sequence.\"\"\"\n",
    "        G = 0.0\n",
    "        for i in range(n - 1):\n",
    "            G += pow(gamma, i) * _seq[i].reward\n",
    "        return G + pow(gamma, n) * v[_seq[-1].state]\n",
    "    \n",
    "    def regular_return(_seq: List[S]) -> float:\n",
    "        \"\"\"Compute regular return for a sequence.\"\"\"\n",
    "        G = 0.0\n",
    "        for j in range(len(_seq)):\n",
    "            G += pow(gamma, j) * _seq[j].reward\n",
    "        return G\n",
    "        \n",
    "    for sim in it.islice(traces, num_simulations):\n",
    "        # for memory efficiency, only store n steps\n",
    "        seq = deque(maxlen=n)\n",
    "        for s in sim:\n",
    "            seq.append(s)\n",
    "            if len(seq) == n:\n",
    "                state = seq[0].state\n",
    "                v[state] += alpha * (bootstrapped_return(seq) - v[state])\n",
    "                \n",
    "        # for the remaining, it's just regular return\n",
    "        rem = list(seq)\n",
    "        for i in range(len(rem)):\n",
    "            state = rem[i].state\n",
    "            v[state] += alpha * (regular_return(rem[i:]) - v[state])\n",
    "    return v"
   ]
  },
  {
   "cell_type": "markdown",
   "metadata": {},
   "source": [
    "## Question 2"
   ]
  },
  {
   "cell_type": "code",
   "execution_count": 3,
   "metadata": {},
   "outputs": [],
   "source": [
    "def td_lambda(\n",
    "    *,\n",
    "    traces: Iterable[Iterable[TransitionStep[S]]],\n",
    "    nonterminal_states: Set[S],\n",
    "    alpha: float,\n",
    "    gamma: float,\n",
    "    Lambda: float,\n",
    "    num_simulations: int = 500,\n",
    ") -> Mapping[S, float]:\n",
    "    \"\"\"Implement the TD(lambda) RL algorithm.\"\"\"\n",
    "    v: Dict[S, float] = defaultdict(float)\n",
    "    \n",
    "    for simulation in it.islice(traces, num_simulations):\n",
    "        E = {s: 0 for s in nonterminal_states}\n",
    "        for tstep in simulation:\n",
    "            state = tstep.state\n",
    "            next_state = tstep.next_state\n",
    "            reward = tstep.reward\n",
    "            \n",
    "            for s in E:\n",
    "                E[s] *= gamma * Lambda\n",
    "                if state == s:\n",
    "                    E[s] += 1\n",
    "\n",
    "            for s in nonterminal_states:\n",
    "                td_error = reward + gamma * v[next_state] - v[state]\n",
    "                v[s] += alpha * td_error * E[s]\n",
    "    return v"
   ]
  },
  {
   "cell_type": "markdown",
   "metadata": {},
   "source": [
    "## Question 4"
   ]
  },
  {
   "cell_type": "code",
   "execution_count": 28,
   "metadata": {},
   "outputs": [],
   "source": [
    "B = 20\n",
    "p = 0.5\n",
    "\n",
    "alpha = 0.1\n",
    "gamma = 1\n",
    "\n",
    "mrp = RandomWalkMRP(B, p)\n",
    "\n",
    "# start our traces anywhere except a terminal state\n",
    "seed = Choose(set(range(1, B)))"
   ]
  },
  {
   "cell_type": "code",
   "execution_count": 29,
   "metadata": {},
   "outputs": [
    {
     "data": {
      "text/plain": [
       "defaultdict(float,\n",
       "            {3: 0.10744981450989963,\n",
       "             6: 0.26112727131809965,\n",
       "             4: 0.10859654806364069,\n",
       "             7: 0.3817512052721492,\n",
       "             5: 0.1594264932688159,\n",
       "             8: 0.4143326814433998,\n",
       "             9: 0.4630025486395416,\n",
       "             10: 0.5726619388293431,\n",
       "             11: 0.6607009092609729,\n",
       "             12: 0.738992603985011,\n",
       "             13: 0.7873975335627748,\n",
       "             14: 0.8534396576179895,\n",
       "             15: 0.9053951307292847,\n",
       "             16: 0.9279850341213957,\n",
       "             17: 0.9505500541517553,\n",
       "             18: 0.9693544218202577,\n",
       "             19: 0.9776749173216931,\n",
       "             2: 0.051140422619403,\n",
       "             1: 0.021565861389009337})"
      ]
     },
     "execution_count": 29,
     "metadata": {},
     "output_type": "execute_result"
    }
   ],
   "source": [
    "n_step = n_step_bootstrapping(\n",
    "    traces=mrp.reward_traces(seed), \n",
    "    n=8,\n",
    "    alpha=alpha,\n",
    "    gamma=gamma\n",
    ")\n",
    "n_step"
   ]
  },
  {
   "cell_type": "code",
   "execution_count": 30,
   "metadata": {},
   "outputs": [
    {
     "data": {
      "text/plain": [
       "defaultdict(float,\n",
       "            {7: 0.309150039139379,\n",
       "             8: 0.3640365320608962,\n",
       "             1: 0.03448437224107659,\n",
       "             2: 0.08149237481251569,\n",
       "             3: 0.12155283341275659,\n",
       "             4: 0.17672828198338464,\n",
       "             5: 0.2288313213382301,\n",
       "             6: 0.2735235898337338,\n",
       "             9: 0.46646001962897515,\n",
       "             10: 0.5103462452391297,\n",
       "             11: 0.5488319099023082,\n",
       "             12: 0.624595041060178,\n",
       "             13: 0.7010139445548078,\n",
       "             14: 0.7494907817068696,\n",
       "             15: 0.7802604182390799,\n",
       "             16: 0.8239388096076099,\n",
       "             17: 0.867068376374624,\n",
       "             18: 0.9049828195676493,\n",
       "             19: 0.9548850702023444,\n",
       "             0: 0.0,\n",
       "             20: 0.0})"
      ]
     },
     "execution_count": 30,
     "metadata": {},
     "output_type": "execute_result"
    }
   ],
   "source": [
    "N = {s for s in mrp.states() if not mrp.is_terminal(s)}\n",
    "\n",
    "td = td_lambda(\n",
    "    traces=mrp.reward_traces(seed), \n",
    "    nonterminal_states=N,\n",
    "    alpha=alpha,\n",
    "    gamma=gamma,\n",
    "    Lambda=0.5\n",
    ")\n",
    "td"
   ]
  },
  {
   "cell_type": "code",
   "execution_count": 31,
   "metadata": {},
   "outputs": [
    {
     "data": {
      "text/plain": [
       "array([0.05, 0.1 , 0.15, 0.2 , 0.25, 0.3 , 0.35, 0.4 , 0.45, 0.5 , 0.55,\n",
       "       0.6 , 0.65, 0.7 , 0.75, 0.8 , 0.85, 0.9 , 0.95])"
      ]
     },
     "execution_count": 31,
     "metadata": {},
     "output_type": "execute_result"
    }
   ],
   "source": [
    "matrix = mrp.get_value_function_vec(gamma=gamma)\n",
    "matrix"
   ]
  },
  {
   "cell_type": "code",
   "execution_count": 33,
   "metadata": {},
   "outputs": [
    {
     "data": {
      "image/png": "[encoded data removed]",
      "text/plain": [
       "<Figure size 432x288 with 1 Axes>"
      ]
     },
     "metadata": {
      "needs_background": "light"
     },
     "output_type": "display_data"
    }
   ],
   "source": [
    "plt.plot(matrix, label=\"Matrix Inversion VF\")\n",
    "plt.plot(range(B), [td[i] for i in range(B)], label=\"TD(Lambda) VF\")\n",
    "plt.plot(range(B), [n_step[i] for i in range(B)], \n",
    "         label=\"n-Step Bootstrapping VF\")\n",
    "\n",
    "plt.legend()\n",
    "plt.show()"
   ]
  },
  {
   "cell_type": "code",
   "execution_count": null,
   "metadata": {},
   "outputs": [],
   "source": []
  }
 ],
 "metadata": {
  "kernelspec": {
   "display_name": "Python 3",
   "language": "python",
   "name": "python3"
  },
  "language_info": {
   "codemirror_mode": {
    "name": "ipython",
    "version": 3
   },
   "file_extension": ".py",
   "mimetype": "text/x-python",
   "name": "python",
   "nbconvert_exporter": "python",
   "pygments_lexer": "ipython3",
   "version": "3.8.7"
  }
 },
 "nbformat": 4,
 "nbformat_minor": 4
}
