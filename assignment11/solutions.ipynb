{
 "cells": [
  {
   "cell_type": "markdown",
   "metadata": {},
   "source": [
    "# CME 241 (Winter 2021) -- Assignment 11"
   ]
  },
  {
   "cell_type": "code",
   "execution_count": 1,
   "metadata": {},
   "outputs": [],
   "source": [
    "from typing import Iterable, TypeVar, Mapping, List, Tuple\n",
    "import itertools as it\n",
    "from collections import defaultdict\n",
    "from pprint import pprint\n",
    "\n",
    "from rl.markov_process import TransitionStep, ReturnStep\n",
    "from rl.returns import returns\n",
    "from rl.chapter2.simple_inventory_mrp import (\n",
    "    SimpleInventoryMRPFinite, \n",
    "    InventoryState\n",
    ")\n",
    "from rl.distribution import Choose\n",
    "from rl.function_approx import LinearFunctionApprox\n",
    "from rl.monte_carlo import mc_prediction\n",
    "from rl.td import td_prediction"
   ]
  },
  {
   "cell_type": "markdown",
   "metadata": {},
   "source": [
    "## Question 1"
   ]
  },
  {
   "cell_type": "code",
   "execution_count": 2,
   "metadata": {},
   "outputs": [],
   "source": [
    "S = TypeVar(\"S\")\n",
    "    \n",
    "def tabular_mc_prediction(\n",
    "    traces: Iterable[Iterable[TransitionStep[S]]],\n",
    "    gamma: int = 1\n",
    ") -> Mapping[S, float]:\n",
    "    \"\"\"Compute value function for finite number of states.\"\"\"\n",
    "    episodes = (returns(trace, gamma, 1e-5) for trace in traces)\n",
    "    vf: Mapping[S, float] = defaultdict(float)\n",
    "    counts: Mapping[S, int] = defaultdict(lambda: int(1))\n",
    "    for n, episode in enumerate(episodes):\n",
    "        for rs in episode:\n",
    "            vf[rs.state] += (rs.return_ - vf[rs.state]) / counts[rs.state]\n",
    "            counts[rs.state] += 1\n",
    "    return vf"
   ]
  },
  {
   "cell_type": "markdown",
   "metadata": {},
   "source": [
    "## Question 2"
   ]
  },
  {
   "cell_type": "code",
   "execution_count": 3,
   "metadata": {},
   "outputs": [],
   "source": [
    "def tabular_td_prediction(\n",
    "    traces: Iterable[TransitionStep[S]],\n",
    "    gamma: int = 1\n",
    ") -> Mapping[S, float]:\n",
    "    \"\"\"Compute value function for finite number of states.\"\"\"\n",
    "    V: Mapping[S, float] = defaultdict(float)\n",
    "    for n, t in enumerate(traces, start=1):\n",
    "        V[t.state] += 20 * (t.reward + gamma * V[t.next_state] - V[t.state]) / n\n",
    "    return V"
   ]
  },
  {
   "cell_type": "markdown",
   "metadata": {},
   "source": [
    "## Question 3"
   ]
  },
  {
   "cell_type": "code",
   "execution_count": 4,
   "metadata": {},
   "outputs": [
    {
     "name": "stdout",
     "output_type": "stream",
     "text": [
      "True Value Function\n",
      "--------------\n",
      "{InventoryState(on_hand=0, on_order=0): -35.511,\n",
      " InventoryState(on_hand=1, on_order=0): -28.932,\n",
      " InventoryState(on_hand=0, on_order=1): -27.932,\n",
      " InventoryState(on_hand=0, on_order=2): -28.345,\n",
      " InventoryState(on_hand=2, on_order=0): -30.345,\n",
      " InventoryState(on_hand=1, on_order=1): -29.345}\n",
      "\n",
      "Tabular MC Value Function\n",
      "-------------------------\n",
      "defaultdict(<class 'float'>,\n",
      "            {InventoryState(on_hand=0, on_order=2): -28.349594723613464,\n",
      "             InventoryState(on_hand=2, on_order=0): -30.31382739372025,\n",
      "             InventoryState(on_hand=0, on_order=1): -27.953161963072763,\n",
      "             InventoryState(on_hand=1, on_order=1): -29.328717040092105,\n",
      "             InventoryState(on_hand=0, on_order=0): -35.51232707680943,\n",
      "             InventoryState(on_hand=1, on_order=0): -28.92084417311761})\n",
      "\n",
      "Approx. MC Value Function\n",
      "-------------------------\n",
      "{InventoryState(on_hand=0, on_order=0): array([-1.90212916]),\n",
      " InventoryState(on_hand=1, on_order=0): array([-1.96380093]),\n",
      " InventoryState(on_hand=0, on_order=1): array([-1.92334189]),\n",
      " InventoryState(on_hand=0, on_order=2): array([-1.8892533]),\n",
      " InventoryState(on_hand=2, on_order=0): array([-1.92059009]),\n",
      " InventoryState(on_hand=1, on_order=1): array([-1.96280344])}\n",
      "\n",
      "Tabular TD Value Function\n",
      "-------------------------\n",
      "defaultdict(<class 'float'>,\n",
      "            {InventoryState(on_hand=0, on_order=2): -28.927637704640578,\n",
      "             InventoryState(on_hand=2, on_order=0): -30.91453722079667,\n",
      "             InventoryState(on_hand=1, on_order=0): -29.468853459710946,\n",
      "             InventoryState(on_hand=1, on_order=1): -29.92978019714445,\n",
      "             InventoryState(on_hand=0, on_order=1): -28.452712137000848,\n",
      "             InventoryState(on_hand=0, on_order=0): -36.12055422293994})\n",
      "\n",
      "Approx. TD Value Function\n",
      "-------------------------\n",
      "{InventoryState(on_hand=0, on_order=0): array([-35.43335494]),\n",
      " InventoryState(on_hand=1, on_order=0): array([-28.91518676]),\n",
      " InventoryState(on_hand=0, on_order=1): array([-27.93362267]),\n",
      " InventoryState(on_hand=0, on_order=2): array([-28.25773967]),\n",
      " InventoryState(on_hand=2, on_order=0): array([-30.15309974]),\n",
      " InventoryState(on_hand=1, on_order=1): array([-29.31503537])}\n",
      "None\n"
     ]
    }
   ],
   "source": [
    "user_capacity = 2\n",
    "user_poisson_lambda = 1.0\n",
    "user_holding_cost = 1.0\n",
    "user_stockout_cost = 10.0\n",
    "\n",
    "user_gamma = 0.9\n",
    "\n",
    "si_mrp = SimpleInventoryMRPFinite(\n",
    "    capacity=user_capacity,\n",
    "    poisson_lambda=user_poisson_lambda,\n",
    "    holding_cost=user_holding_cost,\n",
    "    stockout_cost=user_stockout_cost,\n",
    ")\n",
    "print(\"True Value Function\")\n",
    "print(\"--------------\")\n",
    "si_mrp.display_value_function(gamma=user_gamma)\n",
    "print()\n",
    "\n",
    "numsims = 2_000\n",
    "distrib = Choose({s for s in si_mrp.states()})\n",
    "traces = it.islice(si_mrp.reward_traces(distrib), numsims)\n",
    "\n",
    "iters = it.tee(traces, 3)\n",
    "\n",
    "print(\"Tabular MC Value Function\")\n",
    "print(\"-------------------------\")\n",
    "pprint(tabular_mc_prediction(iters[0], user_gamma))\n",
    "print()\n",
    "\n",
    "# Exhaustive list of states, identity functions\n",
    "f0 = lambda x: int(x == InventoryState(0, 0))\n",
    "f1 = lambda x: int(x == InventoryState(1, 0))\n",
    "f2 = lambda x: int(x == InventoryState(2, 0))\n",
    "f3 = lambda x: int(x == InventoryState(1, 1))\n",
    "f4 = lambda x: int(x == InventoryState(0, 1))\n",
    "f5 = lambda x: int(x == InventoryState(0, 2))\n",
    "\n",
    "mc_approximator = LinearFunctionApprox.create(\n",
    "    feature_functions=[f0, f1, f2, f3,f4, f5]\n",
    ")\n",
    "mc_candidates = list(mc_prediction(iters[1], mc_approximator, user_gamma))\n",
    "mc_sol = mc_candidates[-1]\n",
    "print(\"Approx. MC Value Function\")\n",
    "print(\"-------------------------\")\n",
    "pprint({s: mc_sol.evaluate([s]) for s in si_mrp.states()})\n",
    "print()\n",
    "\n",
    "flattened = it.chain.from_iterable(it.islice(x, 500) for x in iters[2])\n",
    "flats = it.tee(flattened)\n",
    "\n",
    "td_vf = tabular_td_prediction(flats[0], user_gamma)\n",
    "print(\"Tabular TD Value Function\")\n",
    "print(\"-------------------------\")\n",
    "pprint(td_vf)\n",
    "print()\n",
    "\n",
    "td_approximator = LinearFunctionApprox.create(\n",
    "    feature_functions=[f0, f1, f2, f3,f4, f5]\n",
    ")\n",
    "td_candidates = list(td_prediction(flats[1], td_approximator, user_gamma))\n",
    "td_sol = td_candidates[-1]\n",
    "print(\"Approx. TD Value Function\")\n",
    "print(\"-------------------------\")\n",
    "pprint({s: td_sol.evaluate([s]) for s in si_mrp.states()})"
   ]
  },
  {
   "cell_type": "code",
   "execution_count": null,
   "metadata": {},
   "outputs": [],
   "source": []
  }
 ],
 "metadata": {
  "kernelspec": {
   "display_name": "Python 3",
   "language": "python",
   "name": "python3"
  },
  "language_info": {
   "codemirror_mode": {
    "name": "ipython",
    "version": 3
   },
   "file_extension": ".py",
   "mimetype": "text/x-python",
   "name": "python",
   "nbconvert_exporter": "python",
   "pygments_lexer": "ipython3",
   "version": "3.8.7"
  }
 },
 "nbformat": 4,
 "nbformat_minor": 4
}
