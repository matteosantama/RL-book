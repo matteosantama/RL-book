{
 "cells": [
  {
   "cell_type": "markdown",
   "metadata": {},
   "source": [
    "# Stanford CME 241 (Winter 2021) - Assignment 3\n",
    "\n",
    "## Question 3\n",
    "\n",
    "### Part 1\n",
    "\n",
    "Using notation from **RLForFinanceBook**, \n",
    "\n",
    "$$\\mathcal{S} = \\{0, 1, ..., n\\}$$\n",
    "$$\\mathcal{N} = \\{1, 2, ..., n-1\\}$$\n",
    "$$\\mathcal{A} = \\{A, B\\}$$\n",
    "$$\\mathcal{P}(s,a,s') = \\mathbb{P}\\left[S_{t+1} = s' | S_t = s, A_t = a\\right]: \\forall s \\in \\mathcal{N}, s' \\in \\mathcal{S}$$\n",
    "\n",
    "We can be more specific about $\\mathcal{P}(s,a,s')$:\n",
    "\n",
    "$$\\mathcal{P}(s,A,s-1) = \\frac{s}{n}$$\n",
    "$$\\mathcal{P}(s,A,s+1) = \\frac{n-s}{n}$$\n",
    "$$\\mathcal{P}(s,B,s') = \\frac{1}{n} : \\forall s' \\neq s$$\n",
    "\n",
    "To solve the *frog-escape* problem using an MDP Optimal Value Function, we want to reward the frog (agent) for reaching lily $n$ and escaping the pond. By setting a reward of +1 for escaping, and a reward of 0 for all other states, the optimal value function will have a nice physical interpretation. $V^*(s)$ will represent the frog's escape probability at state $s$.\n",
    "\n",
    "Mathematically, this means the rewards should be defined as:\n",
    "$$\\mathcal{R}(n) = +1$$\n",
    "$$\\mathcal{R}(0) = 0$$\n",
    "$$\\mathcal{R}(s) = 0 : \\forall s \\in \\mathcal{N}$$\n",
    "\n",
    "\n",
    "### Part 2"
   ]
  },
  {
   "cell_type": "code",
   "execution_count": 1,
   "metadata": {},
   "outputs": [],
   "source": [
    "from typing import Iterable, Generator\n",
    "\n",
    "from itertools import product\n",
    "\n",
    "from rl.distribution import Categorical, Choose, Constant\n",
    "from rl.markov_process import StateReward\n",
    "from rl.markov_decision_process import FiniteMarkovDecisionProcess\n",
    "from rl.markov_decision_process import FinitePolicy"
   ]
  },
  {
   "cell_type": "code",
   "execution_count": 2,
   "metadata": {},
   "outputs": [],
   "source": [
    "def get_frog_mdp(n: int) -> FiniteMarkovDecisionProcess:\n",
    "    \"\"\"Construct the frog-problem MDP for a given n.\"\"\"\n",
    "    \n",
    "    _rewards = {s: 0 for s in range(n)}\n",
    "    _rewards[n] = +1\n",
    "    \n",
    "    def _get_state_rewards(state: int, action: str) -> StateReward:\n",
    "        \"\"\"Return the distribution of rewards.\"\"\"\n",
    "        if action == 'A':\n",
    "            return Categorical({\n",
    "                (state - 1, _rewards[state - 1]): state / n,\n",
    "                (state + 1, _rewards[state + 1]): (n - state) / n\n",
    "            })\n",
    "        if action == 'B':\n",
    "            return Choose({\n",
    "                (i, _rewards[i]) for i in range(n + 1) if i != state\n",
    "            })\n",
    "        raise RuntimeError(f\"Uh oh, should not be reaching here!\")\n",
    "    \n",
    "    actions = 'AB'\n",
    "    state_action_mapping = {0: None, n: None}\n",
    "    for s in range(1, n):\n",
    "        state_action_mapping[s]= {}\n",
    "        for a in actions:\n",
    "            state_action_mapping[s][a] = _get_state_rewards(s, a)\n",
    "    return FiniteMarkovDecisionProcess(state_action_mapping)"
   ]
  },
  {
   "cell_type": "code",
   "execution_count": 3,
   "metadata": {},
   "outputs": [],
   "source": [
    "def frog_policies(n: int) -> Generator:\n",
    "    \"\"\"Yield all possible deterministic policies.\"\"\"\n",
    "    for i in product('AB', repeat=n-1):\n",
    "        policy_map = {\n",
    "            state: Constant(action) \n",
    "            for state, action in enumerate(i, start=1)\n",
    "        }\n",
    "        policy_map[0] = None\n",
    "        policy_map[n] = None\n",
    "        yield FinitePolicy(policy_map)"
   ]
  },
  {
   "cell_type": "code",
   "execution_count": 4,
   "metadata": {},
   "outputs": [
    {
     "name": "stdout",
     "output_type": "stream",
     "text": [
      "Policy #1 has V* = [0.4 0.6]\n",
      "Policy #2 has V* = [0.28571429 0.42857143]\n",
      "Policy #3 has V* = [0.57142857 0.71428571]\n",
      "Policy #4 has V* = [0.5 0.5]\n"
     ]
    }
   ],
   "source": [
    "n = 3\n",
    "\n",
    "mdp = get_frog_mdp(n)\n",
    "for i, pol in enumerate(frog_policies(n), start=1):\n",
    "    mrp = mdp.apply_finite_policy(pol)\n",
    "    print(f\"Policy #{i} has V* = {mrp.get_value_function_vec(gamma=1)}\")"
   ]
  },
  {
   "cell_type": "markdown",
   "metadata": {},
   "source": [
    "Policy #3 is clearly the optimal deterministic policy.\n",
    "\n",
    "## Part 3"
   ]
  },
  {
   "cell_type": "code",
   "execution_count": 5,
   "metadata": {},
   "outputs": [],
   "source": [
    "import matplotlib.pyplot as plt\n",
    "import matplotlib.patches as mpatches\n",
    "import numpy as np"
   ]
  },
  {
   "cell_type": "code",
   "execution_count": 6,
   "metadata": {},
   "outputs": [],
   "source": [
    "def get_optimal_policy(\n",
    "    n: int, \n",
    "    mdp: FiniteMarkovDecisionProcess\n",
    ") -> FinitePolicy:\n",
    "    \"\"\"Compare all deterministic policies and return optimal one.\"\"\"\n",
    "    optimal_policy = None\n",
    "    v_star = None\n",
    "    for pol in frog_policies(n):\n",
    "        mrp = mdp.apply_finite_policy(pol)\n",
    "        vf = mrp.get_value_function_vec(gamma=1)\n",
    "        if optimal_policy is None or (vf > v_star).all():\n",
    "            optimal_policy = pol\n",
    "            v_star = vf\n",
    "    return optimal_policy"
   ]
  },
  {
   "cell_type": "code",
   "execution_count": 7,
   "metadata": {},
   "outputs": [
    {
     "data": {
      "image/png": "[encoded data removed]",
      "text/plain": [
       "<Figure size 432x288 with 1 Axes>"
      ]
     },
     "metadata": {
      "needs_background": "light"
     },
     "output_type": "display_data"
    }
   ],
   "source": [
    "colors = [\"tab:blue\", \"tab:orange\", \"tab:green\"]\n",
    "markers = [\"s\", \"o\", \"D\"]\n",
    "\n",
    "for i, n in enumerate([3, 6, 9]):\n",
    "    mdp = get_frog_mdp(n)\n",
    "    policy = get_optimal_policy(n, mdp)\n",
    "    mrp = mdp.apply_finite_policy(policy)\n",
    "    v_star = mrp.get_value_function_vec(gamma=1)\n",
    "    plt.scatter(0, 0, color=colors[i], marker=markers[2])\n",
    "    for j, s in enumerate(range(1, n)):\n",
    "        action = policy.act(s).value\n",
    "        markers_ = {'A': 0, 'B': 1}\n",
    "        plt.scatter(s, v_star[j], color=colors[i], marker=markers[markers_[action]])\n",
    "    plt.scatter(n, 1, color=colors[i], marker=markers[2])\n",
    "    \n",
    "plt.title(\"Frog Escape Problem\")\n",
    "plt.ylabel(\"Probability of Escape\")\n",
    "plt.xlabel(\"Lilypad #\")\n",
    "plt.show()"
   ]
  },
  {
   "cell_type": "markdown",
   "metadata": {},
   "source": [
    "In the above graph, the colors correspond to different \"size\" *frog-problems*. The diamonds represent terminal states, the circles represent states where the optimal action is **B** and the squares are states where the optimal action is **A**. Its clear that the only state where choosing **B** is optimal is in state 1."
   ]
  },
  {
   "cell_type": "code",
   "execution_count": null,
   "metadata": {},
   "outputs": [],
   "source": []
  }
 ],
 "metadata": {
  "kernelspec": {
   "display_name": "Python 3",
   "language": "python",
   "name": "python3"
  },
  "language_info": {
   "codemirror_mode": {
    "name": "ipython",
    "version": 3
   },
   "file_extension": ".py",
   "mimetype": "text/x-python",
   "name": "python",
   "nbconvert_exporter": "python",
   "pygments_lexer": "ipython3",
   "version": "3.8.6"
  }
 },
 "nbformat": 4,
 "nbformat_minor": 4
}
