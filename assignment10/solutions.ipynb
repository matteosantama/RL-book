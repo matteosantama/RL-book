{
 "cells": [
  {
   "cell_type": "markdown",
   "metadata": {},
   "source": [
    "# CME241 (Winter 2021) -- Assignment 10"
   ]
  },
  {
   "cell_type": "code",
   "execution_count": 1,
   "metadata": {},
   "outputs": [],
   "source": [
    "import abc\n",
    "from dataclasses import dataclass, asdict\n",
    "from typing import Iterator, Tuple\n",
    "\n",
    "import numpy as np\n",
    "import pandas as pd"
   ]
  },
  {
   "cell_type": "markdown",
   "metadata": {},
   "source": [
    "## Question 2"
   ]
  },
  {
   "cell_type": "code",
   "execution_count": 2,
   "metadata": {},
   "outputs": [],
   "source": [
    "@dataclass\n",
    "class Simulator(abc.ABC):\n",
    "    \n",
    "    S_0: float = 100\n",
    "    T: float = 1.0\n",
    "    dt: float = 0.005\n",
    "    sigma:float = 2.0\n",
    "    k: float = 1.5\n",
    "    c: float = 140.0\n",
    "        \n",
    "    def was_hit(self, mid: float, bid: float) -> bool:\n",
    "        \"\"\"Determine if we bought by probability.\"\"\"\n",
    "        delta = mid - bid\n",
    "        prob = self.c * np.exp(-1.0 * self.k * delta) * self.dt\n",
    "        return np.random.rand() < prob\n",
    "        \n",
    "    def was_lifted(self, mid: float, ask: float) -> bool:\n",
    "        \"\"\"Determine if we sold by probability.\"\"\"\n",
    "        delta = ask - mid\n",
    "        prob = self.c * np.exp(-1.0 * self.k * delta) * self.dt\n",
    "        return np.random.rand() < prob\n",
    "        \n",
    "    @dataclass\n",
    "    class State:\n",
    "        \"\"\"Capture all relevant state material.\"\"\"\n",
    "        \n",
    "        time: float\n",
    "        inventory: int\n",
    "        midpoint: float\n",
    "        bid: float\n",
    "        ask: float\n",
    "        pnl: float\n",
    "        \n",
    "    def simulate(self) -> Iterator[State]:\n",
    "        \"\"\"Generate a single simulation sequence.\"\"\"\n",
    "        time = inventory = pnl = 0\n",
    "        midpoint = self.S_0\n",
    "        bid, ask = self.price(midpoint, inventory, time)\n",
    "        while time < self.T:\n",
    "            yield Simulator.State(\n",
    "                time=time, \n",
    "                midpoint=midpoint, \n",
    "                inventory=inventory, \n",
    "                bid=bid, \n",
    "                ask=ask, \n",
    "                pnl=pnl\n",
    "            )\n",
    "            if self.was_hit(midpoint, bid):\n",
    "                inventory += 1\n",
    "                pnl -= bid\n",
    "            if self.was_lifted(midpoint, ask):\n",
    "                inventory -= 1\n",
    "                pnl += ask\n",
    "            mvmt = np.random.choice([-1, 1])\n",
    "            midpoint += mvmt * self.sigma * np.sqrt(self.dt)\n",
    "            bid, ask = self.price(midpoint, inventory, time)\n",
    "            time += self.dt\n",
    "        # and now we have to liquidate our remaining inventory\n",
    "        pnl += inventory * midpoint\n",
    "        yield Simulator.State(\n",
    "            time=self.T, \n",
    "            midpoint=midpoint, \n",
    "            inventory=0, \n",
    "            bid=bid, \n",
    "            ask=ask, \n",
    "            pnl=pnl\n",
    "        )\n",
    "            \n",
    "    @abc.abstractmethod\n",
    "    def price(self, mdpt: float, inventory: int) -> Tuple[float, float]:\n",
    "        \"\"\"Compute the market making prices.\"\"\"\n",
    "        pass"
   ]
  },
  {
   "cell_type": "code",
   "execution_count": 3,
   "metadata": {},
   "outputs": [],
   "source": [
    "@dataclass\n",
    "class OptimalMarketMaker(Simulator):\n",
    "    \n",
    "    gamma: float = 0.1\n",
    "    \n",
    "    def price(self, mid: float, inventory: int, t: float) -> Tuple[float, float]:\n",
    "        \"\"\"Compute the Avallaneda-Stoikov optimal MM prices.\"\"\"\n",
    "        db = self.db(inventory, t)\n",
    "        da = self.da(inventory, t)\n",
    "        return mid - db, mid + da\n",
    "    \n",
    "    def db(self, I: int, t: float) -> float:\n",
    "        \"\"\"Compute MM bid spread.\"\"\"\n",
    "        const = (2 * I + 1) * self.gamma * np.square(self.sigma) * (self.T - t) / 2\n",
    "        return const + np.log(1 + self.gamma / self.k) / self.gamma\n",
    "    \n",
    "    def da(self, I: int, t: float) -> float:\n",
    "        \"\"\"Compute MM ask spread.\"\"\"\n",
    "        const = (1 - 2 * I) * self.gamma * np.square(self.sigma) * (self.T - t) / 2\n",
    "        return const + np.log(1 + self.gamma / self.k) / self.gamma"
   ]
  },
  {
   "cell_type": "code",
   "execution_count": 4,
   "metadata": {},
   "outputs": [],
   "source": [
    "opt_mm = OptimalMarketMaker()"
   ]
  },
  {
   "cell_type": "code",
   "execution_count": 5,
   "metadata": {},
   "outputs": [],
   "source": [
    "n = 1000\n",
    "\n",
    "max_inventory = []\n",
    "ending_pnl = []\n",
    "avg_spread = []\n",
    "\n",
    "for i in range(n):\n",
    "    trace = list(opt_mm.simulate())\n",
    "    ending_pnl.append(trace[-1].pnl)\n",
    "    inventory = 0\n",
    "    spread_sum = 0\n",
    "    for step in trace:\n",
    "        inventory = max(abs(step.inventory), inventory)\n",
    "        spread_sum += step.ask - step.bid\n",
    "    \n",
    "    max_inventory.append(inventory)\n",
    "    avg_spread.append(spread_sum / len(trace))\n",
    "    \n",
    "df = pd.DataFrame({\n",
    "    \"max_abs_inventory\": max_inventory,\n",
    "    \"ending_pnl\": ending_pnl,\n",
    "    \"avg_spread\": avg_spread\n",
    "})"
   ]
  },
  {
   "cell_type": "code",
   "execution_count": 6,
   "metadata": {},
   "outputs": [
    {
     "data": {
      "text/html": [
       "<div>\n",
       "<style scoped>\n",
       "    .dataframe tbody tr th:only-of-type {\n",
       "        vertical-align: middle;\n",
       "    }\n",
       "\n",
       "    .dataframe tbody tr th {\n",
       "        vertical-align: top;\n",
       "    }\n",
       "\n",
       "    .dataframe thead th {\n",
       "        text-align: right;\n",
       "    }\n",
       "</style>\n",
       "<table border=\"1\" class=\"dataframe\">\n",
       "  <thead>\n",
       "    <tr style=\"text-align: right;\">\n",
       "      <th></th>\n",
       "      <th>max_abs_inventory</th>\n",
       "      <th>ending_pnl</th>\n",
       "      <th>avg_spread</th>\n",
       "    </tr>\n",
       "  </thead>\n",
       "  <tbody>\n",
       "    <tr>\n",
       "      <th>0</th>\n",
       "      <td>6</td>\n",
       "      <td>57.877184</td>\n",
       "      <td>1.49276</td>\n",
       "    </tr>\n",
       "    <tr>\n",
       "      <th>1</th>\n",
       "      <td>3</td>\n",
       "      <td>56.855029</td>\n",
       "      <td>1.49276</td>\n",
       "    </tr>\n",
       "    <tr>\n",
       "      <th>2</th>\n",
       "      <td>3</td>\n",
       "      <td>58.313586</td>\n",
       "      <td>1.49276</td>\n",
       "    </tr>\n",
       "    <tr>\n",
       "      <th>3</th>\n",
       "      <td>6</td>\n",
       "      <td>66.036601</td>\n",
       "      <td>1.49276</td>\n",
       "    </tr>\n",
       "    <tr>\n",
       "      <th>4</th>\n",
       "      <td>5</td>\n",
       "      <td>60.437369</td>\n",
       "      <td>1.49276</td>\n",
       "    </tr>\n",
       "    <tr>\n",
       "      <th>...</th>\n",
       "      <td>...</td>\n",
       "      <td>...</td>\n",
       "      <td>...</td>\n",
       "    </tr>\n",
       "    <tr>\n",
       "      <th>995</th>\n",
       "      <td>5</td>\n",
       "      <td>65.259329</td>\n",
       "      <td>1.49276</td>\n",
       "    </tr>\n",
       "    <tr>\n",
       "      <th>996</th>\n",
       "      <td>3</td>\n",
       "      <td>72.537625</td>\n",
       "      <td>1.49276</td>\n",
       "    </tr>\n",
       "    <tr>\n",
       "      <th>997</th>\n",
       "      <td>3</td>\n",
       "      <td>62.408960</td>\n",
       "      <td>1.49276</td>\n",
       "    </tr>\n",
       "    <tr>\n",
       "      <th>998</th>\n",
       "      <td>3</td>\n",
       "      <td>65.611751</td>\n",
       "      <td>1.49276</td>\n",
       "    </tr>\n",
       "    <tr>\n",
       "      <th>999</th>\n",
       "      <td>5</td>\n",
       "      <td>60.666904</td>\n",
       "      <td>1.49276</td>\n",
       "    </tr>\n",
       "  </tbody>\n",
       "</table>\n",
       "<p>1000 rows × 3 columns</p>\n",
       "</div>"
      ],
      "text/plain": [
       "     max_abs_inventory  ending_pnl  avg_spread\n",
       "0                    6   57.877184     1.49276\n",
       "1                    3   56.855029     1.49276\n",
       "2                    3   58.313586     1.49276\n",
       "3                    6   66.036601     1.49276\n",
       "4                    5   60.437369     1.49276\n",
       "..                 ...         ...         ...\n",
       "995                  5   65.259329     1.49276\n",
       "996                  3   72.537625     1.49276\n",
       "997                  3   62.408960     1.49276\n",
       "998                  3   65.611751     1.49276\n",
       "999                  5   60.666904     1.49276\n",
       "\n",
       "[1000 rows x 3 columns]"
      ]
     },
     "execution_count": 6,
     "metadata": {},
     "output_type": "execute_result"
    }
   ],
   "source": [
    "df"
   ]
  },
  {
   "cell_type": "code",
   "execution_count": 7,
   "metadata": {},
   "outputs": [
    {
     "data": {
      "text/plain": [
       "<matplotlib.axes._subplots.AxesSubplot at 0x1208d3b50>"
      ]
     },
     "execution_count": 7,
     "metadata": {},
     "output_type": "execute_result"
    },
    {
     "data": {
      "image/png": "[encoded data removed]",
      "text/plain": [
       "<Figure size 432x288 with 1 Axes>"
      ]
     },
     "metadata": {
      "needs_background": "light"
     },
     "output_type": "display_data"
    }
   ],
   "source": [
    "df[\"max_abs_inventory\"].hist()"
   ]
  },
  {
   "cell_type": "code",
   "execution_count": 8,
   "metadata": {},
   "outputs": [
    {
     "data": {
      "text/plain": [
       "<matplotlib.axes._subplots.AxesSubplot at 0x122a85820>"
      ]
     },
     "execution_count": 8,
     "metadata": {},
     "output_type": "execute_result"
    },
    {
     "data": {
      "image/png": "[encoded data removed]",
      "text/plain": [
       "<Figure size 432x288 with 1 Axes>"
      ]
     },
     "metadata": {
      "needs_background": "light"
     },
     "output_type": "display_data"
    }
   ],
   "source": [
    "df[\"ending_pnl\"].hist()"
   ]
  },
  {
   "cell_type": "code",
   "execution_count": 9,
   "metadata": {},
   "outputs": [],
   "source": [
    "@dataclass\n",
    "class NaiveMarketMaker(Simulator):\n",
    "    \n",
    "    avg_spread: float = 1.49276\n",
    "    \n",
    "    def price(self, mid: float, inventory: int, t: float) -> Tuple[float, float]:\n",
    "        \"\"\"Compute the Avallaneda-Stoikov optimal MM prices.\"\"\"\n",
    "        half = self.avg_spread / 2\n",
    "        return mid - half, mid + half"
   ]
  },
  {
   "cell_type": "code",
   "execution_count": 10,
   "metadata": {},
   "outputs": [],
   "source": [
    "naive_mm = NaiveMarketMaker()"
   ]
  },
  {
   "cell_type": "code",
   "execution_count": 11,
   "metadata": {},
   "outputs": [],
   "source": [
    "n = 1000\n",
    "\n",
    "max_inventory = []\n",
    "ending_pnl = []\n",
    "avg_spread = []\n",
    "\n",
    "for i in range(n):\n",
    "    trace = list(naive_mm.simulate())\n",
    "    ending_pnl.append(trace[-1].pnl)\n",
    "    inventory = 0\n",
    "    spread_sum = 0\n",
    "    for step in trace:\n",
    "        inventory = max(abs(step.inventory), inventory)\n",
    "        spread_sum += step.ask - step.bid\n",
    "    \n",
    "    max_inventory.append(inventory)\n",
    "    avg_spread.append(spread_sum / len(trace))\n",
    "    \n",
    "df = pd.DataFrame({\n",
    "    \"max_abs_inventory\": max_inventory,\n",
    "    \"ending_pnl\": ending_pnl,\n",
    "    \"avg_spread\": avg_spread\n",
    "})"
   ]
  },
  {
   "cell_type": "code",
   "execution_count": 12,
   "metadata": {},
   "outputs": [
    {
     "data": {
      "text/html": [
       "<div>\n",
       "<style scoped>\n",
       "    .dataframe tbody tr th:only-of-type {\n",
       "        vertical-align: middle;\n",
       "    }\n",
       "\n",
       "    .dataframe tbody tr th {\n",
       "        vertical-align: top;\n",
       "    }\n",
       "\n",
       "    .dataframe thead th {\n",
       "        text-align: right;\n",
       "    }\n",
       "</style>\n",
       "<table border=\"1\" class=\"dataframe\">\n",
       "  <thead>\n",
       "    <tr style=\"text-align: right;\">\n",
       "      <th></th>\n",
       "      <th>max_abs_inventory</th>\n",
       "      <th>ending_pnl</th>\n",
       "      <th>avg_spread</th>\n",
       "    </tr>\n",
       "  </thead>\n",
       "  <tbody>\n",
       "    <tr>\n",
       "      <th>0</th>\n",
       "      <td>18</td>\n",
       "      <td>90.194349</td>\n",
       "      <td>1.49276</td>\n",
       "    </tr>\n",
       "    <tr>\n",
       "      <th>1</th>\n",
       "      <td>18</td>\n",
       "      <td>81.386952</td>\n",
       "      <td>1.49276</td>\n",
       "    </tr>\n",
       "    <tr>\n",
       "      <th>2</th>\n",
       "      <td>11</td>\n",
       "      <td>70.136118</td>\n",
       "      <td>1.49276</td>\n",
       "    </tr>\n",
       "    <tr>\n",
       "      <th>3</th>\n",
       "      <td>6</td>\n",
       "      <td>65.508676</td>\n",
       "      <td>1.49276</td>\n",
       "    </tr>\n",
       "    <tr>\n",
       "      <th>4</th>\n",
       "      <td>5</td>\n",
       "      <td>68.156219</td>\n",
       "      <td>1.49276</td>\n",
       "    </tr>\n",
       "    <tr>\n",
       "      <th>...</th>\n",
       "      <td>...</td>\n",
       "      <td>...</td>\n",
       "      <td>...</td>\n",
       "    </tr>\n",
       "    <tr>\n",
       "      <th>995</th>\n",
       "      <td>13</td>\n",
       "      <td>69.146169</td>\n",
       "      <td>1.49276</td>\n",
       "    </tr>\n",
       "    <tr>\n",
       "      <th>996</th>\n",
       "      <td>8</td>\n",
       "      <td>63.513105</td>\n",
       "      <td>1.49276</td>\n",
       "    </tr>\n",
       "    <tr>\n",
       "      <th>997</th>\n",
       "      <td>10</td>\n",
       "      <td>84.686846</td>\n",
       "      <td>1.49276</td>\n",
       "    </tr>\n",
       "    <tr>\n",
       "      <th>998</th>\n",
       "      <td>13</td>\n",
       "      <td>74.693134</td>\n",
       "      <td>1.49276</td>\n",
       "    </tr>\n",
       "    <tr>\n",
       "      <th>999</th>\n",
       "      <td>10</td>\n",
       "      <td>59.521775</td>\n",
       "      <td>1.49276</td>\n",
       "    </tr>\n",
       "  </tbody>\n",
       "</table>\n",
       "<p>1000 rows × 3 columns</p>\n",
       "</div>"
      ],
      "text/plain": [
       "     max_abs_inventory  ending_pnl  avg_spread\n",
       "0                   18   90.194349     1.49276\n",
       "1                   18   81.386952     1.49276\n",
       "2                   11   70.136118     1.49276\n",
       "3                    6   65.508676     1.49276\n",
       "4                    5   68.156219     1.49276\n",
       "..                 ...         ...         ...\n",
       "995                 13   69.146169     1.49276\n",
       "996                  8   63.513105     1.49276\n",
       "997                 10   84.686846     1.49276\n",
       "998                 13   74.693134     1.49276\n",
       "999                 10   59.521775     1.49276\n",
       "\n",
       "[1000 rows x 3 columns]"
      ]
     },
     "execution_count": 12,
     "metadata": {},
     "output_type": "execute_result"
    }
   ],
   "source": [
    "df"
   ]
  },
  {
   "cell_type": "code",
   "execution_count": 13,
   "metadata": {},
   "outputs": [
    {
     "data": {
      "text/plain": [
       "<matplotlib.axes._subplots.AxesSubplot at 0x122acbc10>"
      ]
     },
     "execution_count": 13,
     "metadata": {},
     "output_type": "execute_result"
    },
    {
     "data": {
      "image/png": "[encoded data removed]",
      "text/plain": [
       "<Figure size 432x288 with 1 Axes>"
      ]
     },
     "metadata": {
      "needs_background": "light"
     },
     "output_type": "display_data"
    }
   ],
   "source": [
    "df[\"max_abs_inventory\"].hist()"
   ]
  },
  {
   "cell_type": "code",
   "execution_count": 14,
   "metadata": {},
   "outputs": [
    {
     "data": {
      "text/plain": [
       "<matplotlib.axes._subplots.AxesSubplot at 0x122b8c070>"
      ]
     },
     "execution_count": 14,
     "metadata": {},
     "output_type": "execute_result"
    },
    {
     "data": {
      "image/png": "[encoded data removed]",
      "text/plain": [
       "<Figure size 432x288 with 1 Axes>"
      ]
     },
     "metadata": {
      "needs_background": "light"
     },
     "output_type": "display_data"
    }
   ],
   "source": [
    "df[\"ending_pnl\"].hist()"
   ]
  },
  {
   "cell_type": "code",
   "execution_count": 15,
   "metadata": {},
   "outputs": [],
   "source": [
    "# "
   ]
  }
 ],
 "metadata": {
  "kernelspec": {
   "display_name": "Python 3",
   "language": "python",
   "name": "python3"
  },
  "language_info": {
   "codemirror_mode": {
    "name": "ipython",
    "version": 3
   },
   "file_extension": ".py",
   "mimetype": "text/x-python",
   "name": "python",
   "nbconvert_exporter": "python",
   "pygments_lexer": "ipython3",
   "version": "3.8.7"
  }
 },
 "nbformat": 4,
 "nbformat_minor": 4
}
