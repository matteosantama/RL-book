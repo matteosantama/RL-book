{
 "cells": [
  {
   "cell_type": "markdown",
   "metadata": {},
   "source": [
    "# CME 241 (Winter 2021) -- Assignment 5\n",
    "\n",
    "## Question 1"
   ]
  },
  {
   "cell_type": "code",
   "execution_count": 16,
   "metadata": {},
   "outputs": [],
   "source": [
    "from __future__ import annotations\n",
    "\n",
    "from dataclasses import dataclass, field\n",
    "from typing import Iterable, Tuple, Optional, TypeVar\n",
    "\n",
    "import matplotlib.pyplot as plt\n",
    "import numpy as np\n",
    "from scipy.interpolate import UnivariateSpline\n",
    "\n",
    "from rl.function_approx import FunctionApprox"
   ]
  },
  {
   "cell_type": "code",
   "execution_count": 34,
   "metadata": {},
   "outputs": [],
   "source": [
    "@dataclass\n",
    "class UnivariateSplineApprox(FunctionApprox[float]):\n",
    "    \"\"\"A univariate BSpline function approximator.\"\"\"\n",
    "    \n",
    "    _spline: UnivariateSpline = field(default=None, init=False, repr=False)\n",
    "    \n",
    "    def representational_gradient(\n",
    "        self, x_value: float\n",
    "    ) -> UnivariateSplineApprox[float]:\n",
    "        \"\"\"Return the first derivate of the spline at the point `x_value\"\"\"\n",
    "        if not self._spline:\n",
    "            raise ValueError(\"No data processed, unable to determine gradient.\")\n",
    "        return self._spline.derivative(x)[0]\n",
    "    \n",
    "    def evaluate(self, x_values_seq: Iterable[float]) -> np.ndarray:\n",
    "        \"\"\"Compute the expected value of y given x.\"\"\"\n",
    "        return np.array([self._spline(x) for x in x_values_seq])\n",
    "    \n",
    "    def update(\n",
    "        self, xy_vals_seq: Iterable[Tuple[float, float]]\n",
    "    ) -> UnivariateSplineApprox[float]:\n",
    "        \"\"\"`scipy.interpolate.UnivariateSpline does not allow incremental\n",
    "        updates, so we just refit.\"\"\"\n",
    "        x, y = zip(*xy_vals_seq)\n",
    "        self._spline = UnivariateSpline(x, y)\n",
    "        return self\n",
    "    \n",
    "    def solve(\n",
    "        self, \n",
    "        xy_vals_seq: Iterable[Tuple[float, float]],\n",
    "        error_tolerance: Optional[float] = None\n",
    "    ) -> UnivariateSplineApprox[float]:\n",
    "        \"\"\"A solve is an update since we don't do incremental updates.\"\"\"\n",
    "        return self.update(xy_vals_seq)\n",
    "    \n",
    "    def within(\n",
    "        self, other: UnivariateSplineApprox[float], tolerance: float = 1e-6\n",
    "    ) -> bool:\n",
    "        \"\"\"Determine if two Splines are approximately equal.\"\"\"\n",
    "        if not instance(other, UnivariateSplineApprox):\n",
    "            return False\n",
    "        knots = self._spline.get_knots()\n",
    "        coeffs = self._spline.get_coeffs()\n",
    "        if len(knots) != len(other._spline.get_knots()):\n",
    "            return False\n",
    "        same_knots = (np.abs(knots - other._spline.get_knots()) <= tolerance).all()\n",
    "        same_coeffs = (np.abs(coeffs - other._spline.get_coeffs()) <= tolerance).all()\n",
    "        return same_knots and same_coeffs"
   ]
  },
  {
   "cell_type": "code",
   "execution_count": 69,
   "metadata": {},
   "outputs": [],
   "source": [
    "# Empirical data has a quadratic curvature with some added noise\n",
    "x = np.linspace(-3, 3, 10)\n",
    "y = np.square(x) + np.random.randn(10)\n",
    "\n",
    "spline = UnivariateSplineApprox()\n",
    "spline.update(zip(x, y))\n",
    "\n",
    "xs = np.linspace(-3, 3, 50)"
   ]
  },
  {
   "cell_type": "code",
   "execution_count": 70,
   "metadata": {},
   "outputs": [
    {
     "data": {
      "image/png": "[encoded data removed]",
      "text/plain": [
       "<Figure size 432x288 with 1 Axes>"
      ]
     },
     "metadata": {
      "needs_background": "light"
     },
     "output_type": "display_data"
    }
   ],
   "source": [
    "plt.scatter(x, y, label=\"Empirical\")\n",
    "plt.scatter(xs, spline.evaluate(xs), label=\"Fitted\")\n",
    "plt.legend()\n",
    "plt.show()"
   ]
  },
  {
   "cell_type": "code",
   "execution_count": null,
   "metadata": {},
   "outputs": [],
   "source": []
  }
 ],
 "metadata": {
  "kernelspec": {
   "display_name": "Python 3",
   "language": "python",
   "name": "python3"
  },
  "language_info": {
   "codemirror_mode": {
    "name": "ipython",
    "version": 3
   },
   "file_extension": ".py",
   "mimetype": "text/x-python",
   "name": "python",
   "nbconvert_exporter": "python",
   "pygments_lexer": "ipython3",
   "version": "3.8.7"
  }
 },
 "nbformat": 4,
 "nbformat_minor": 4
}
