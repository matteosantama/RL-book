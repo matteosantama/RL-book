{
 "cells": [
  {
   "cell_type": "markdown",
   "metadata": {},
   "source": [
    "# Stanford CME 241: Assignment 2\n",
    "\n",
    "## Question 1\n",
    "\n",
    "The state space for the *Snakes and Ladders* game are the tiles numbered 1 to 100 that are **not** at the bottom of a ladder or the top of a chute, plus \"tile 0\" where the game begins. Tile number 100 is the terminal state. \n",
    "\n",
    "The transition table is a map from every state to six other states, each occuring with probability 1/6. For example, the transition table entry for tile 0 looks like:\n",
    "\n",
    "<style type=\"text/css\">\n",
    ".tg  {border-collapse:collapse;border-spacing:0;}\n",
    ".tg td{border-color:black;border-style:solid;border-width:1px;font-family:Arial, sans-serif;font-size:14px;\n",
    "  overflow:hidden;padding:10px 5px;word-break:normal;}\n",
    ".tg th{border-color:black;border-style:solid;border-width:1px;font-family:Arial, sans-serif;font-size:14px;\n",
    "  font-weight:normal;overflow:hidden;padding:10px 5px;word-break:normal;}\n",
    ".tg .tg-fymr{border-color:inherit;font-weight:bold;text-align:left;vertical-align:top}\n",
    ".tg .tg-7btt{border-color:inherit;font-weight:bold;text-align:center;vertical-align:top}\n",
    ".tg .tg-0pky{border-color:inherit;text-align:left;vertical-align:top}\n",
    ".tg .tg-f8tv{border-color:inherit;font-style:italic;text-align:left;vertical-align:top}\n",
    "</style>\n",
    "<table class=\"tg\">\n",
    "<thead>\n",
    "  <tr>\n",
    "    <th class=\"tg-fymr\">From</th>\n",
    "    <th class=\"tg-7btt\" colspan=\"6\">To</th>\n",
    "  </tr>\n",
    "</thead>\n",
    "<tbody>\n",
    "  <tr>\n",
    "    <td class=\"tg-fymr\"></td>\n",
    "    <td class=\"tg-0pky\">38</td>\n",
    "    <td class=\"tg-0pky\">2</td>\n",
    "    <td class=\"tg-0pky\">3</td>\n",
    "    <td class=\"tg-0pky\">14</td>\n",
    "    <td class=\"tg-0pky\">5</td>\n",
    "    <td class=\"tg-0pky\">6</td>\n",
    "  </tr>\n",
    "  <tr>\n",
    "    <td class=\"tg-0pky\">0</td>\n",
    "    <td class=\"tg-f8tv\">1/6</td>\n",
    "    <td class=\"tg-f8tv\">1/6</td>\n",
    "    <td class=\"tg-f8tv\">1/6</td>\n",
    "    <td class=\"tg-f8tv\">1/6</td>\n",
    "    <td class=\"tg-f8tv\">1/6</td>\n",
    "    <td class=\"tg-f8tv\">1/6</td>\n",
    "  </tr>\n",
    "  <tr>\n",
    "    <td class=\"tg-0pky\"></td>\n",
    "    <td class=\"tg-0pky\"></td>\n",
    "    <td class=\"tg-0pky\"></td>\n",
    "    <td class=\"tg-0pky\"></td>\n",
    "    <td class=\"tg-0pky\"></td>\n",
    "    <td class=\"tg-0pky\"></td>\n",
    "    <td class=\"tg-0pky\"></td>\n",
    "  </tr>\n",
    "</tbody>\n",
    "</table>"
   ]
  },
  {
   "cell_type": "markdown",
   "metadata": {},
   "source": [
    "## Question 2"
   ]
  },
  {
   "cell_type": "code",
   "execution_count": 1,
   "metadata": {},
   "outputs": [],
   "source": [
    "import matplotlib.pyplot as plt\n",
    "\n",
    "from rl.markov_process import FiniteMarkovProcess\n",
    "from rl.distribution import Choose, Constant"
   ]
  },
  {
   "cell_type": "code",
   "execution_count": 2,
   "metadata": {},
   "outputs": [],
   "source": [
    "ladders = {\n",
    "    1: 38, \n",
    "    4: 14, \n",
    "    9: 31,\n",
    "    28: 84,\n",
    "    21: 42,\n",
    "    36: 44,\n",
    "    51: 67,\n",
    "    71: 91,\n",
    "    80: 100\n",
    "}\n",
    "snakes = {\n",
    "    16: 6,\n",
    "    47: 26,\n",
    "    49: 11,\n",
    "    56: 53,\n",
    "    62: 19,\n",
    "    64: 60,\n",
    "    87: 24,\n",
    "    93: 73,\n",
    "    95: 75,\n",
    "    98: 78\n",
    "}\n",
    "\n",
    "snakes_and_ladders = {**snakes, **ladders}"
   ]
  },
  {
   "cell_type": "code",
   "execution_count": 3,
   "metadata": {},
   "outputs": [],
   "source": [
    "# Implements what was described in question 1\n",
    "non_terminal_states = [x for x in range(100) if x not in snakes_and_ladders]\n",
    "\n",
    "# Mark 100 as the terminal state\n",
    "transitions = {100: None}\n",
    "for _from in non_terminal_states:\n",
    "    _to = []\n",
    "    for step in range(1, 7):\n",
    "        rolled_tile = _from + step\n",
    "        next_tile = snakes_and_ladders.get(rolled_tile, rolled_tile)\n",
    "        # Step back if we rolled over 100\n",
    "        if next_tile > 100:\n",
    "            rolled_tile = 100 - (next_tile - 100)\n",
    "            next_tile = snakes_and_ladders.get(rolled_tile, rolled_tile)\n",
    "        _to.append(next_tile)\n",
    "    # map a tile to a distribution\n",
    "    transitions[_from] = Choose(_to)\n",
    "    \n",
    "process = FiniteMarkovProcess(transitions)"
   ]
  },
  {
   "cell_type": "code",
   "execution_count": 4,
   "metadata": {},
   "outputs": [],
   "source": [
    "# Store number of time steps for 10_000 different simulations\n",
    "time_steps = [len(list(process.simulate(Constant(0)))) for _ in range(10_000)]"
   ]
  },
  {
   "cell_type": "code",
   "execution_count": 5,
   "metadata": {},
   "outputs": [
    {
     "data": {
      "image/png": "[encoded data removed]",
      "text/plain": [
       "<Figure size 432x288 with 1 Axes>"
      ]
     },
     "metadata": {
      "needs_background": "light"
     },
     "output_type": "display_data"
    }
   ],
   "source": [
    "histogram = plt.hist(time_steps, bins=40)\n",
    "plt.title(\"Snakes and Ladders Steps Required\")\n",
    "plt.show()"
   ]
  },
  {
   "cell_type": "markdown",
   "metadata": {},
   "source": [
    "## Question 3\n",
    "\n",
    "We can solve the **Frog Problem** with a backwards dynamic programming approach."
   ]
  },
  {
   "cell_type": "code",
   "execution_count": 6,
   "metadata": {},
   "outputs": [],
   "source": [
    "def frog_problem(n: int) -> float:\n",
    "    \"\"\"Solve the Frog Problem.\n",
    "    \n",
    "    Compute the expected number of hops the frog will\n",
    "    take to cross the bank given there are n - 1 lilies \n",
    "    between the frog and the opposite bank.\n",
    "    \"\"\"\n",
    "    dp = {}\n",
    "    for i in reversed(range(n)):\n",
    "        dp[i] = (1 + sum(1 + dp[j] for j in range(i + 1, n))) / (n - i)\n",
    "    return dp[0]"
   ]
  },
  {
   "cell_type": "code",
   "execution_count": 7,
   "metadata": {},
   "outputs": [
    {
     "data": {
      "text/plain": [
       "2.9289682539682538"
      ]
     },
     "execution_count": 7,
     "metadata": {},
     "output_type": "execute_result"
    }
   ],
   "source": [
    "frog_problem(10)"
   ]
  },
  {
   "cell_type": "markdown",
   "metadata": {},
   "source": [
    "## Question 4"
   ]
  },
  {
   "cell_type": "code",
   "execution_count": 8,
   "metadata": {},
   "outputs": [],
   "source": [
    "from rl.markov_process import FiniteMarkovRewardProcess"
   ]
  },
  {
   "cell_type": "markdown",
   "metadata": {},
   "source": [
    "To model snakes and ladders as an **MRP**, we can assign a reward of +1 to every tile and use a gamma of +1. The value function will then represent how many more rolls are expected at each tile."
   ]
  },
  {
   "cell_type": "code",
   "execution_count": 9,
   "metadata": {},
   "outputs": [],
   "source": [
    "reward_transition_map = {}\n",
    "for s, distro in transitions.items():\n",
    "    # Add a reward of 1 to the distribution\n",
    "    reward_transition_map[s] = Choose({(n, 1) for n in distro.options}) if distro else None"
   ]
  },
  {
   "cell_type": "code",
   "execution_count": 10,
   "metadata": {},
   "outputs": [],
   "source": [
    "mrp = FiniteMarkovRewardProcess(reward_transition_map)"
   ]
  },
  {
   "cell_type": "code",
   "execution_count": 11,
   "metadata": {},
   "outputs": [
    {
     "data": {
      "text/plain": [
       "41.06185861530892"
      ]
     },
     "execution_count": 11,
     "metadata": {},
     "output_type": "execute_result"
    }
   ],
   "source": [
    "mrp.get_value_function_vec(1)[0]"
   ]
  },
  {
   "cell_type": "markdown",
   "metadata": {},
   "source": [
    "From tile 0, we can expect about 41 rolls to complete the game, which looks reasonable when compared to the histogram from question two."
   ]
  },
  {
   "cell_type": "markdown",
   "metadata": {},
   "source": [
    "## Question 5"
   ]
  },
  {
   "cell_type": "code",
   "execution_count": 12,
   "metadata": {},
   "outputs": [],
   "source": [
    "from dataclasses import dataclass\n",
    "from typing import Callable, Tuple\n",
    "\n",
    "from rl.markov_process import MarkovRewardProcess\n",
    "from rl.distribution import Categorical\n",
    "from rl.gen_utils.common_funcs import get_logistic_func"
   ]
  },
  {
   "cell_type": "code",
   "execution_count": 13,
   "metadata": {},
   "outputs": [],
   "source": [
    "@dataclass(frozen=True)\n",
    "class State:\n",
    "    stock_price: int\n",
    "        \n",
    "@dataclass\n",
    "class StockMRP(MarkovRewardProcess[State]):\n",
    "    \"\"\"\n",
    "    This MRP models a stock with mean-reverting behavior described\n",
    "    by a logistic functions (MP1 in the book). At every transition step,\n",
    "    the stock price either increases, or decreases, by 1.\n",
    "    \"\"\"\n",
    "    \n",
    "    level_param: int\n",
    "    reward_func: Callable[[State], float]\n",
    "    alpha: float = 0.25\n",
    "    \n",
    "    def transition_reward(self, state: State) -> Categorical[Tuple[State, float]]:\n",
    "        \"\"\"Given a state, return a distribution of the next state and reward.\"\"\"\n",
    "        up_prob: float = get_logistic_func(self.alpha)(self.level_param - state.stock_price)\n",
    "        \n",
    "        up_state: State = State(state.stock_price + 1)\n",
    "        down_state: State = State(state.stock_price - 1)\n",
    "            \n",
    "        reward: float = self.reward_func(state)\n",
    "        return Categorical({\n",
    "            (up_state, self.reward_func(up_state)): up_prob,\n",
    "            (down_state, self.reward_func(down_state)): 1 - up_prob\n",
    "        })"
   ]
  },
  {
   "cell_type": "code",
   "execution_count": 14,
   "metadata": {},
   "outputs": [],
   "source": [
    "# Our reward function describes a scenario where we got long \n",
    "# the stock at a price of 90\n",
    "payoff = lambda state: state.stock_price - 90\n",
    "\n",
    "mrp = StockMRP(level_param=100, reward_func=payoff)"
   ]
  },
  {
   "cell_type": "code",
   "execution_count": 15,
   "metadata": {},
   "outputs": [
    {
     "data": {
      "text/plain": [
       "{(State(stock_price=111), 21): 0.07585818002124355, (State(stock_price=109), 19): 0.9241418199787564}"
      ]
     },
     "execution_count": 15,
     "metadata": {},
     "output_type": "execute_result"
    }
   ],
   "source": [
    "mrp.transition_reward(State(110))"
   ]
  },
  {
   "cell_type": "code",
   "execution_count": null,
   "metadata": {},
   "outputs": [],
   "source": []
  }
 ],
 "metadata": {
  "kernelspec": {
   "display_name": "Python 3",
   "language": "python",
   "name": "python3"
  },
  "language_info": {
   "codemirror_mode": {
    "name": "ipython",
    "version": 3
   },
   "file_extension": ".py",
   "mimetype": "text/x-python",
   "name": "python",
   "nbconvert_exporter": "python",
   "pygments_lexer": "ipython3",
   "version": "3.8.6"
  }
 },
 "nbformat": 4,
 "nbformat_minor": 4
}
